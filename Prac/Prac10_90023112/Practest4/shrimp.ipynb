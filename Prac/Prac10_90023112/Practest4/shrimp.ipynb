{
 "cells": [
  {
   "cell_type": "markdown",
   "id": "59c7b533",
   "metadata": {},
   "source": [
    "Create a Jupyter Notebook called shrimp.ipynb, read in the data from the parameter sweep using Pandas. Print the dataframe and plot it with appropriate titles (use sample_pop.csv as the data if you haven’t completed task 3)"
   ]
  },
  {
   "cell_type": "code",
   "execution_count": 8,
   "id": "79d63630",
   "metadata": {},
   "outputs": [
    {
     "name": "stdout",
     "output_type": "stream",
     "text": [
      "    Initial Population   Final Population\n",
      "0                   10                 10\n",
      "1                   12                 12\n",
      "2                   14                 29\n",
      "3                   16                 31\n",
      "4                   18                 33\n",
      "5                   20                 35\n",
      "6                   22                 37\n",
      "7                   24                 39\n",
      "8                   26                 56\n",
      "9                   28                 58\n",
      "10                  30                 60\n"
     ]
    }
   ],
   "source": [
    "import pandas as pd\n",
    "import matplotlib.pyplot as plt\n",
    "\n",
    "df = pd.read_csv('shrimp_pop10-30.csv')\n",
    "\n",
    "print(df)"
   ]
  },
  {
   "cell_type": "code",
   "execution_count": 9,
   "id": "248af58e",
   "metadata": {},
   "outputs": [
    {
     "data": {
      "image/png": "[encoded data removed]",
      "text/plain": [
       "<Figure size 432x288 with 1 Axes>"
      ]
     },
     "metadata": {
      "needs_background": "light"
     },
     "output_type": "display_data"
    }
   ],
   "source": [
    "df.plot()\n",
    "plt.title(\"Shrimp Simulation\")\n",
    "plt.show()"
   ]
  },
  {
   "cell_type": "code",
   "execution_count": null,
   "id": "5c13018d",
   "metadata": {},
   "outputs": [],
   "source": []
  }
 ],
 "metadata": {
  "kernelspec": {
   "display_name": "Python 3 (ipykernel)",
   "language": "python",
   "name": "python3"
  },
  "language_info": {
   "codemirror_mode": {
    "name": "ipython",
    "version": 3
   },
   "file_extension": ".py",
   "mimetype": "text/x-python",
   "name": "python",
   "nbconvert_exporter": "python",
   "pygments_lexer": "ipython3",
   "version": "3.8.5"
  }
 },
 "nbformat": 4,
 "nbformat_minor": 5
}
