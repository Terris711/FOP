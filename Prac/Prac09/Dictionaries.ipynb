{
 "cells": [
  {
   "cell_type": "code",
   "execution_count": 14,
   "id": "677ae6d5",
   "metadata": {},
   "outputs": [
    {
     "name": "stdout",
     "output_type": "stream",
     "text": [
      "6100877\n",
      "New South Wales\n",
      "Victoria\n",
      "Queensland\n",
      "South Australia\n",
      "Western Australia\n",
      "Tasmania\n",
      "Northern Territory\n",
      "Australian Capital Territory\n",
      "\n",
      "\n",
      "New South Wales  :  7757843\n",
      "Victoria  :  6100877\n",
      "Queensland  :  4860448\n",
      "South Australia  :  1710804\n",
      "Western Australia  :  2623164\n",
      "Tasmania  :  519783\n",
      "Northern Territory  :  245657\n",
      "Australian Capital Territory  :  398349\n",
      "Total population:  24216925\n",
      "\n",
      "\n",
      "States have population less than 3000.000\n",
      "South Australia  :  1710804\n",
      "Western Australia  :  2623164\n",
      "Tasmania  :  519783\n",
      "Northern Territory  :  245657\n",
      "Australian Capital Territory  :  398349\n",
      "\n",
      "New Zealand is not a state\n"
     ]
    }
   ],
   "source": [
    "%run pops.py\n"
   ]
  },
  {
   "cell_type": "code",
   "execution_count": 1,
   "id": "44bae8b6",
   "metadata": {},
   "outputs": [
    {
     "ename": "NameError",
     "evalue": "name 'pops' is not defined",
     "output_type": "error",
     "traceback": [
      "\u001b[0;31m---------------------------------------------------------------------------\u001b[0m",
      "\u001b[0;31mNameError\u001b[0m                                 Traceback (most recent call last)",
      "Input \u001b[0;32mIn [1]\u001b[0m, in \u001b[0;36m<module>\u001b[0;34m\u001b[0m\n\u001b[0;32m----> 1\u001b[0m \u001b[43mpops\u001b[49m\n",
      "\u001b[0;31mNameError\u001b[0m: name 'pops' is not defined"
     ]
    }
   ],
   "source": []
  },
  {
   "cell_type": "code",
   "execution_count": null,
   "id": "f6d1ce01",
   "metadata": {},
   "outputs": [],
   "source": []
  },
  {
   "cell_type": "code",
   "execution_count": null,
   "id": "8cf805af",
   "metadata": {},
   "outputs": [],
   "source": []
  }
 ],
 "metadata": {
  "kernelspec": {
   "display_name": "Python 3 (ipykernel)",
   "language": "python",
   "name": "python3"
  },
  "language_info": {
   "codemirror_mode": {
    "name": "ipython",
    "version": 3
   },
   "file_extension": ".py",
   "mimetype": "text/x-python",
   "name": "python",
   "nbconvert_exporter": "python",
   "pygments_lexer": "ipython3",
   "version": "3.8.10"
  }
 },
 "nbformat": 4,
 "nbformat_minor": 5
}
