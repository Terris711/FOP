{
 "cells": [
  {
   "cell_type": "markdown",
   "id": "ba874e9a",
   "metadata": {},
   "source": [
    "Testing out jupyter notebook with Tuple task"
   ]
  },
  {
   "cell_type": "code",
   "execution_count": 10,
   "id": "b0b5d9b9",
   "metadata": {},
   "outputs": [
    {
     "name": "stdout",
     "output_type": "stream",
     "text": [
      "('spam', 'eggs', 42)\n",
      "(1, 4, 9, 16, 25)\n",
      "('yes', 'oui', 'ja', 'si')\n"
     ]
    }
   ],
   "source": [
    "tup1 = ('spam', 'eggs', 42) \n",
    "tup2 = (1, 4, 9, 16, 25 ) \n",
    "tup3 = \"yes\", \"oui\", \"ja\", \"si\" \n",
    "\n",
    "tup4 = tup2 + tup3\n",
    "\n",
    "\n",
    "print(tup1)\n",
    "print(tup2) \n",
    "print(tup3)"
   ]
  },
  {
   "cell_type": "code",
   "execution_count": 11,
   "id": "4e528e43",
   "metadata": {},
   "outputs": [
    {
     "name": "stdout",
     "output_type": "stream",
     "text": [
      "(1, 4, 9, 16, 25, 'yes', 'oui', 'ja', 'si')\n"
     ]
    }
   ],
   "source": [
    "# Add tup2 and tup3\n",
    "print(tup4)"
   ]
  },
  {
   "cell_type": "code",
   "execution_count": 12,
   "id": "64d3089f",
   "metadata": {},
   "outputs": [
    {
     "name": "stdout",
     "output_type": "stream",
     "text": [
      "9\n"
     ]
    }
   ],
   "source": [
    "#Length of tup4\n",
    "print(len(tup4))"
   ]
  },
  {
   "cell_type": "code",
   "execution_count": 13,
   "id": "3169c56a",
   "metadata": {},
   "outputs": [
    {
     "name": "stdout",
     "output_type": "stream",
     "text": [
      "(4, 9, 16, 25, 'yes', 'oui', 'ja')\n"
     ]
    }
   ],
   "source": [
    "#Print tup4 except for first and last value\n",
    "print(tup4[1:len(tup4)-1])"
   ]
  },
  {
   "cell_type": "code",
   "execution_count": 22,
   "id": "5e464497",
   "metadata": {},
   "outputs": [],
   "source": [
    "tup5 = tuple(x*x for x in range(1,11))\n"
   ]
  },
  {
   "cell_type": "code",
   "execution_count": 23,
   "id": "cf6bf938",
   "metadata": {},
   "outputs": [
    {
     "name": "stdout",
     "output_type": "stream",
     "text": [
      "(1, 4, 9, 16, 25, 36, 49, 64, 81, 100)\n"
     ]
    }
   ],
   "source": [
    "print(tup5)"
   ]
  },
  {
   "cell_type": "markdown",
   "id": "4fbc388d",
   "metadata": {},
   "source": []
  },
  {
   "cell_type": "code",
   "execution_count": null,
   "id": "d76f1264",
   "metadata": {},
   "outputs": [],
   "source": []
  },
  {
   "cell_type": "code",
   "execution_count": null,
   "id": "41ee8e27",
   "metadata": {},
   "outputs": [],
   "source": []
  }
 ],
 "metadata": {
  "kernelspec": {
   "display_name": "Python 3 (ipykernel)",
   "language": "python",
   "name": "python3"
  },
  "language_info": {
   "codemirror_mode": {
    "name": "ipython",
    "version": 3
   },
   "file_extension": ".py",
   "mimetype": "text/x-python",
   "name": "python",
   "nbconvert_exporter": "python",
   "pygments_lexer": "ipython3",
   "version": "3.8.10"
  }
 },
 "nbformat": 4,
 "nbformat_minor": 5
}
