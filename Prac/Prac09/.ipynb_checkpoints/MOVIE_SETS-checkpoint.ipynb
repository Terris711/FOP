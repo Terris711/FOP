{
 "cells": [
  {
   "cell_type": "code",
   "execution_count": 2,
   "id": "d067f738",
   "metadata": {},
   "outputs": [],
   "source": [
    "Pythons = {\"Eric\", \"John\", \"Terry\", \"Michael\", \"Terry\", \"Graham\"}\n",
    "Goodies = {\"Bill\", \"Tim\", \"Graham\"}\n",
    "Wandas = {\"John\", \"Jamie\", \"Kevin\", \"Michael\"}\n",
    "Yellowbeards = {\"Graham\", \"Peter\", \"Marty\", \"Eric\", \"Martin\", \"Madeline\", \"John\"} \n",
    "Yorkshiremen = {\"Tim\", \"John\", \"Graham\", \"Marty\"}\n",
    "Yorkshiremen2 = {\"Terry\", \"Michael\", \"Eric\", \"Graham\", \"Graham\"}\n"
   ]
  },
  {
   "cell_type": "code",
   "execution_count": 4,
   "id": "a2c01171",
   "metadata": {},
   "outputs": [
    {
     "name": "stdout",
     "output_type": "stream",
     "text": [
      "{'Michael', 'John', 'Graham', 'Terry', 'Eric'}\n",
      "{'Graham', 'Bill', 'Tim'}\n",
      "{'Michael', 'John', 'Jamie', 'Kevin'}\n",
      "{'Marty', 'John', 'Peter', 'Graham', 'Madeline', 'Martin', 'Eric'}\n",
      "{'Marty', 'John', 'Graham', 'Tim'}\n",
      "{'Michael', 'Eric', 'Graham', 'Terry'}\n"
     ]
    }
   ],
   "source": [
    "print(Pythons)\n",
    "print(Goodies)\n",
    "print(Wandas)\n",
    "print(Yellowbeards)\n",
    "print(Yorkshiremen)\n",
    "print(Yorkshiremen2)\n"
   ]
  },
  {
   "cell_type": "code",
   "execution_count": 5,
   "id": "652ca9e1",
   "metadata": {},
   "outputs": [
    {
     "name": "stdout",
     "output_type": "stream",
     "text": [
      "{'Eric', 'John', 'Graham'}\n"
     ]
    }
   ],
   "source": [
    "print(Pythons.intersection(Yellowbeards))"
   ]
  },
  {
   "cell_type": "code",
   "execution_count": 6,
   "id": "8bd0763e",
   "metadata": {},
   "outputs": [
    {
     "name": "stdout",
     "output_type": "stream",
     "text": [
      "{'Graham', 'Tim'}\n"
     ]
    }
   ],
   "source": [
    "print(Goodies.intersection(Yorkshiremen))"
   ]
  },
  {
   "cell_type": "code",
   "execution_count": 7,
   "id": "29e7a8bf",
   "metadata": {},
   "outputs": [
    {
     "name": "stdout",
     "output_type": "stream",
     "text": [
      "{'Marty', 'Graham', 'Bill', 'John', 'Tim'}\n"
     ]
    }
   ],
   "source": [
    "print(Goodies.union(Yorkshiremen))"
   ]
  },
  {
   "cell_type": "code",
   "execution_count": 8,
   "id": "b1c419d4",
   "metadata": {},
   "outputs": [
    {
     "name": "stdout",
     "output_type": "stream",
     "text": [
      "{'Kevin', 'Michael', 'John', 'Graham', 'Jamie', 'Terry', 'Eric'}\n"
     ]
    }
   ],
   "source": [
    "print(Pythons.union(Wandas))"
   ]
  },
  {
   "cell_type": "code",
   "execution_count": 9,
   "id": "8984d42f",
   "metadata": {},
   "outputs": [
    {
     "name": "stdout",
     "output_type": "stream",
     "text": [
      "{'Marty', 'Madeline', 'Graham', 'Peter', 'Martin', 'Eric'}\n"
     ]
    }
   ],
   "source": [
    "print(Yellowbeards.difference(Wandas))"
   ]
  },
  {
   "cell_type": "code",
   "execution_count": 10,
   "id": "b643d8a3",
   "metadata": {},
   "outputs": [
    {
     "name": "stdout",
     "output_type": "stream",
     "text": [
      "{'Marty', 'John', 'Tim'}\n"
     ]
    }
   ],
   "source": [
    "print(Yorkshiremen.difference(Yorkshiremen2))"
   ]
  },
  {
   "cell_type": "code",
   "execution_count": null,
   "id": "61fd3784",
   "metadata": {},
   "outputs": [],
   "source": []
  }
 ],
 "metadata": {
  "kernelspec": {
   "display_name": "Python 3 (ipykernel)",
   "language": "python",
   "name": "python3"
  },
  "language_info": {
   "codemirror_mode": {
    "name": "ipython",
    "version": 3
   },
   "file_extension": ".py",
   "mimetype": "text/x-python",
   "name": "python",
   "nbconvert_exporter": "python",
   "pygments_lexer": "ipython3",
   "version": "3.8.10"
  }
 },
 "nbformat": 4,
 "nbformat_minor": 5
}
