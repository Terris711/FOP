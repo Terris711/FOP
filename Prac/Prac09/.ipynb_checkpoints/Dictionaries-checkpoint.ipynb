{
 "cells": [
  {
   "cell_type": "code",
   "execution_count": 9,
   "id": "677ae6d5",
   "metadata": {},
   "outputs": [
    {
     "name": "stdout",
     "output_type": "stream",
     "text": [
      "6100877\n",
      "New South Wales\n",
      "Victoria\n",
      "Queensland\n",
      "South Australia\n",
      "Western Australia\n",
      "Tasmania\n",
      "Northern Territory\n",
      "Australian Capital Territory\n",
      "\n",
      "\n",
      "New South Wales  :  7757843\n",
      "Victoria  :  6100877\n",
      "Queensland  :  4860448\n",
      "South Australia  :  1710804\n",
      "Western Australia  :  2623164\n",
      "Tasmania  :  519783\n",
      "Northern Territory  :  245657\n",
      "Australian Capital Territory  :  398349\n",
      "Total population:  24216925\n"
     ]
    }
   ],
   "source": [
    "%run pops.py\n"
   ]
  },
  {
   "cell_type": "code",
   "execution_count": null,
   "id": "44bae8b6",
   "metadata": {},
   "outputs": [],
   "source": []
  }
 ],
 "metadata": {
  "kernelspec": {
   "display_name": "Python 3 (ipykernel)",
   "language": "python",
   "name": "python3"
  },
  "language_info": {
   "codemirror_mode": {
    "name": "ipython",
    "version": 3
   },
   "file_extension": ".py",
   "mimetype": "text/x-python",
   "name": "python",
   "nbconvert_exporter": "python",
   "pygments_lexer": "ipython3",
   "version": "3.8.10"
  }
 },
 "nbformat": 4,
 "nbformat_minor": 5
}
