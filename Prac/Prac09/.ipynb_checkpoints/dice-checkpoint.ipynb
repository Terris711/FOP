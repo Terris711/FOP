{
 "cells": [
  {
   "cell_type": "code",
   "execution_count": null,
   "id": "5135d95f",
   "metadata": {},
   "outputs": [],
   "source": [
    "import random\n",
    "import matplotlib.pyplot as plt\n",
    "\n",
    "dicecount = {1: 0, 2: 0, 3: 0, 4: 0, 5: 0, 6: 0}\n",
    "\n",
    "for i in range(1000):\n",
    "    toss = random.randint(1,6) \n",
    "    dicecount[toss] += 1\n",
    "    \n",
    "plt.bar(dicecount.keys(), dicecount.values(),\"g\") \n",
    "plt.title(\"Dice Roll(1000)\")\n",
    "plt.xlabel(\"Number\")\n",
    "plt.ylabel(\"Count\")\n",
    "plt.savefig()\n",
    "plt.show()"
   ]
  },
  {
   "cell_type": "code",
   "execution_count": 2,
   "id": "538cf367",
   "metadata": {},
   "outputs": [
    {
     "data": {
      "text/plain": [
       "{1: 164, 2: 179, 3: 149, 4: 186, 5: 177, 6: 145}"
      ]
     },
     "execution_count": 2,
     "metadata": {},
     "output_type": "execute_result"
    }
   ],
   "source": [
    "dicecount"
   ]
  },
  {
   "cell_type": "code",
   "execution_count": null,
   "id": "91068415",
   "metadata": {},
   "outputs": [],
   "source": []
  }
 ],
 "metadata": {
  "kernelspec": {
   "display_name": "Python 3 (ipykernel)",
   "language": "python",
   "name": "python3"
  },
  "language_info": {
   "codemirror_mode": {
    "name": "ipython",
    "version": 3
   },
   "file_extension": ".py",
   "mimetype": "text/x-python",
   "name": "python",
   "nbconvert_exporter": "python",
   "pygments_lexer": "ipython3",
   "version": "3.8.10"
  }
 },
 "nbformat": 4,
 "nbformat_minor": 5
}
